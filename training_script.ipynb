{
 "cells": [
  {
   "cell_type": "code",
   "execution_count": 1,
   "id": "206f605c-99a1-4b5e-a578-9bb914decb27",
   "metadata": {},
   "outputs": [],
   "source": [
    "from sklearn.model_selection import train_test_split\n",
    "import torch\n",
    "from torch import nn\n",
    "from fastai.vision.all import *"
   ]
  },
  {
   "cell_type": "code",
   "execution_count": 2,
   "id": "7b3dcc99-00ab-43af-b0d1-e157d621e55e",
   "metadata": {},
   "outputs": [],
   "source": [
    "from pathlib import Path\n",
    "import pickle, gzip, os\n",
    "from urllib.request import urlretrieve"
   ]
  },
  {
   "cell_type": "code",
   "execution_count": 3,
   "id": "bf4af1a7-4192-45fb-af7f-18f23c65b09a",
   "metadata": {},
   "outputs": [],
   "source": [
    "MNIST_URL='https://github.com/mnielsen/neural-networks-and-deep-learning/blob/master/data/mnist.pkl.gz?raw=true'\n",
    "path_data = Path('data')\n",
    "path_data.mkdir(exist_ok=True)\n",
    "path_gz = path_data/'mnist.pkl.gz'"
   ]
  },
  {
   "cell_type": "code",
   "execution_count": 4,
   "id": "c2f38d2c-c9e8-4213-9f8c-e562c621e6a7",
   "metadata": {},
   "outputs": [],
   "source": [
    "if not path_gz.exists(): urlretrieve(MNIST_URL, path_gz)"
   ]
  },
  {
   "cell_type": "code",
   "execution_count": 5,
   "id": "c1eaee6e-7745-479a-8f60-40bb87da5885",
   "metadata": {},
   "outputs": [],
   "source": [
    "with gzip.open(path_gz, 'rb') as f: ((x_train, y_train), (x_valid, y_valid), _) = pickle.load(f, encoding='latin-1')"
   ]
  },
  {
   "cell_type": "code",
   "execution_count": 6,
   "id": "3c35bd0a-7746-4b51-a0dd-78bf65ffcd7b",
   "metadata": {},
   "outputs": [],
   "source": [
    "x_train, y_train, x_valid, y_valid = map(torch.tensor, (x_train, y_train, x_valid, y_valid))"
   ]
  },
  {
   "cell_type": "code",
   "execution_count": 7,
   "id": "c211ff2b-063e-4e7c-b030-eca56c481ccb",
   "metadata": {},
   "outputs": [
    {
     "data": {
      "text/plain": [
       "tensor(0.9961)"
      ]
     },
     "execution_count": 7,
     "metadata": {},
     "output_type": "execute_result"
    }
   ],
   "source": [
    "x_train.max()"
   ]
  },
  {
   "cell_type": "code",
   "execution_count": 9,
   "id": "1bb1c31f-b97a-4d8b-8037-6728e12b3e6a",
   "metadata": {},
   "outputs": [
    {
     "data": {
      "text/plain": [
       "tensor(1.)"
      ]
     },
     "execution_count": 9,
     "metadata": {},
     "output_type": "execute_result"
    }
   ],
   "source": [
    "torch.round(x_train).max()"
   ]
  },
  {
   "cell_type": "code",
   "execution_count": 7,
   "id": "02109c70-3fcb-4eb0-8182-e3a4fa4bee62",
   "metadata": {},
   "outputs": [
    {
     "data": {
      "text/plain": [
       "torch.Size([50000, 784])"
      ]
     },
     "execution_count": 7,
     "metadata": {},
     "output_type": "execute_result"
    }
   ],
   "source": [
    "x_train.shape"
   ]
  },
  {
   "cell_type": "code",
   "execution_count": 8,
   "id": "fb037719-e1fa-4cd6-b767-dd6d891e29a0",
   "metadata": {},
   "outputs": [
    {
     "data": {
      "text/plain": [
       "(torch.Size([50000, 784]), torch.Size([10000, 784]))"
      ]
     },
     "execution_count": 8,
     "metadata": {},
     "output_type": "execute_result"
    }
   ],
   "source": [
    "x_train.shape, x_valid.shape"
   ]
  },
  {
   "cell_type": "code",
   "execution_count": 9,
   "id": "38d4d7af-c3c3-44ce-adea-20ff1f5c198e",
   "metadata": {},
   "outputs": [
    {
     "data": {
      "text/plain": [
       "(torch.Size([50000]), torch.Size([10000]))"
      ]
     },
     "execution_count": 9,
     "metadata": {},
     "output_type": "execute_result"
    }
   ],
   "source": [
    "y_train.shape, y_valid.shape"
   ]
  },
  {
   "cell_type": "code",
   "execution_count": 10,
   "id": "5ab94766-c36e-4367-9445-09702860beb9",
   "metadata": {},
   "outputs": [],
   "source": [
    "x_train = torch.round(x_train)\n",
    "x_valid = torch.round(x_valid)\n",
    "y_train = y_train.unsqueeze(1)\n",
    "y_valid = y_valid.unsqueeze(1)"
   ]
  },
  {
   "cell_type": "code",
   "execution_count": 11,
   "id": "4a5fd102-78dc-4bf5-88a7-b1f827f56344",
   "metadata": {},
   "outputs": [
    {
     "data": {
      "text/plain": [
       "tensor(1.)"
      ]
     },
     "execution_count": 11,
     "metadata": {},
     "output_type": "execute_result"
    }
   ],
   "source": [
    "x_train.max()"
   ]
  },
  {
   "cell_type": "code",
   "execution_count": 12,
   "id": "865eb53c-10ba-4185-a1d6-aa2538cd75c9",
   "metadata": {},
   "outputs": [],
   "source": [
    "train_dset = list(zip(x_train, y_train))\n",
    "valid_dset = list(zip(x_valid, y_valid))\n",
    "\n",
    "train_dl = DataLoader(train_dset, batch_size=256, shuffle=True)\n",
    "valid_dl = DataLoader(valid_dset, batch_size=256, shuffle=False)\n",
    "dls = DataLoaders(train_dl, valid_dl) # fast.ai wrapper that encapsulates train_dl and valid_dl"
   ]
  },
  {
   "cell_type": "code",
   "execution_count": 15,
   "id": "51387fbf-1b04-4600-b9a0-b29f72594cec",
   "metadata": {},
   "outputs": [],
   "source": [
    "n_net = nn.Sequential(\n",
    "    nn.Linear(28*28, 350),\n",
    "    nn.ReLU(),\n",
    "    nn.Linear(350, 70),\n",
    "    nn.ReLU(),\n",
    "    nn.Linear(70, 10)\n",
    ")"
   ]
  },
  {
   "cell_type": "code",
   "execution_count": 16,
   "id": "e04c6427-b193-49d7-b59d-59590d5bf5e0",
   "metadata": {},
   "outputs": [
    {
     "data": {
      "text/html": [
       "\n",
       "<style>\n",
       "    /* Turns off some styling */\n",
       "    progress {\n",
       "        /* gets rid of default border in Firefox and Opera. */\n",
       "        border: none;\n",
       "        /* Needs to be in here for Safari polyfill so background images work as expected. */\n",
       "        background-size: auto;\n",
       "    }\n",
       "    progress:not([value]), progress:not([value])::-webkit-progress-bar {\n",
       "        background: repeating-linear-gradient(45deg, #7e7e7e, #7e7e7e 10px, #5c5c5c 10px, #5c5c5c 20px);\n",
       "    }\n",
       "    .progress-bar-interrupted, .progress-bar-interrupted::-webkit-progress-bar {\n",
       "        background: #F44336;\n",
       "    }\n",
       "</style>\n"
      ],
      "text/plain": [
       "<IPython.core.display.HTML object>"
      ]
     },
     "metadata": {},
     "output_type": "display_data"
    },
    {
     "data": {
      "text/html": [
       "<table border=\"1\" class=\"dataframe\">\n",
       "  <thead>\n",
       "    <tr style=\"text-align: left;\">\n",
       "      <th>epoch</th>\n",
       "      <th>train_loss</th>\n",
       "      <th>valid_loss</th>\n",
       "      <th>accuracy</th>\n",
       "      <th>time</th>\n",
       "    </tr>\n",
       "  </thead>\n",
       "  <tbody>\n",
       "    <tr>\n",
       "      <td>0</td>\n",
       "      <td>0.309390</td>\n",
       "      <td>0.230343</td>\n",
       "      <td>0.931600</td>\n",
       "      <td>00:02</td>\n",
       "    </tr>\n",
       "    <tr>\n",
       "      <td>1</td>\n",
       "      <td>0.189860</td>\n",
       "      <td>0.156143</td>\n",
       "      <td>0.955300</td>\n",
       "      <td>00:01</td>\n",
       "    </tr>\n",
       "    <tr>\n",
       "      <td>2</td>\n",
       "      <td>0.129075</td>\n",
       "      <td>0.130662</td>\n",
       "      <td>0.961500</td>\n",
       "      <td>00:01</td>\n",
       "    </tr>\n",
       "    <tr>\n",
       "      <td>3</td>\n",
       "      <td>0.093555</td>\n",
       "      <td>0.110460</td>\n",
       "      <td>0.967800</td>\n",
       "      <td>00:01</td>\n",
       "    </tr>\n",
       "    <tr>\n",
       "      <td>4</td>\n",
       "      <td>0.072031</td>\n",
       "      <td>0.101787</td>\n",
       "      <td>0.970700</td>\n",
       "      <td>00:01</td>\n",
       "    </tr>\n",
       "    <tr>\n",
       "      <td>5</td>\n",
       "      <td>0.052493</td>\n",
       "      <td>0.094721</td>\n",
       "      <td>0.973000</td>\n",
       "      <td>00:01</td>\n",
       "    </tr>\n",
       "    <tr>\n",
       "      <td>6</td>\n",
       "      <td>0.040231</td>\n",
       "      <td>0.097211</td>\n",
       "      <td>0.972300</td>\n",
       "      <td>00:01</td>\n",
       "    </tr>\n",
       "    <tr>\n",
       "      <td>7</td>\n",
       "      <td>0.027599</td>\n",
       "      <td>0.099014</td>\n",
       "      <td>0.973600</td>\n",
       "      <td>00:01</td>\n",
       "    </tr>\n",
       "    <tr>\n",
       "      <td>8</td>\n",
       "      <td>0.025306</td>\n",
       "      <td>0.095247</td>\n",
       "      <td>0.973100</td>\n",
       "      <td>00:01</td>\n",
       "    </tr>\n",
       "    <tr>\n",
       "      <td>9</td>\n",
       "      <td>0.016609</td>\n",
       "      <td>0.095541</td>\n",
       "      <td>0.974500</td>\n",
       "      <td>00:01</td>\n",
       "    </tr>\n",
       "    <tr>\n",
       "      <td>10</td>\n",
       "      <td>0.015536</td>\n",
       "      <td>0.098595</td>\n",
       "      <td>0.974900</td>\n",
       "      <td>00:01</td>\n",
       "    </tr>\n",
       "    <tr>\n",
       "      <td>11</td>\n",
       "      <td>0.011481</td>\n",
       "      <td>0.099808</td>\n",
       "      <td>0.976100</td>\n",
       "      <td>00:01</td>\n",
       "    </tr>\n",
       "    <tr>\n",
       "      <td>12</td>\n",
       "      <td>0.009302</td>\n",
       "      <td>0.104853</td>\n",
       "      <td>0.976100</td>\n",
       "      <td>00:01</td>\n",
       "    </tr>\n",
       "    <tr>\n",
       "      <td>13</td>\n",
       "      <td>0.007694</td>\n",
       "      <td>0.116095</td>\n",
       "      <td>0.974400</td>\n",
       "      <td>00:01</td>\n",
       "    </tr>\n",
       "    <tr>\n",
       "      <td>14</td>\n",
       "      <td>0.005622</td>\n",
       "      <td>0.105377</td>\n",
       "      <td>0.977700</td>\n",
       "      <td>00:01</td>\n",
       "    </tr>\n",
       "  </tbody>\n",
       "</table>"
      ],
      "text/plain": [
       "<IPython.core.display.HTML object>"
      ]
     },
     "metadata": {},
     "output_type": "display_data"
    }
   ],
   "source": [
    "learn_ce = Learner(dls, n_net, loss_func=CrossEntropyLossFlat(), metrics=accuracy)\n",
    "learn_ce.fit(15)"
   ]
  },
  {
   "cell_type": "code",
   "execution_count": 17,
   "id": "58676228-f753-4356-af2a-8e458c322be2",
   "metadata": {},
   "outputs": [
    {
     "data": {
      "text/plain": [
       "tensor([7])"
      ]
     },
     "execution_count": 17,
     "metadata": {},
     "output_type": "execute_result"
    }
   ],
   "source": [
    "y_train[52]"
   ]
  },
  {
   "cell_type": "code",
   "execution_count": 18,
   "id": "062be785-8a19-4740-9327-13f504d97847",
   "metadata": {},
   "outputs": [
    {
     "name": "stdout",
     "output_type": "stream",
     "text": [
      "tensor(7)\n"
     ]
    }
   ],
   "source": [
    "with torch.no_grad():\n",
    "    print(torch.argmax(torch.softmax(n_net(x_train[52]), dim=0)))"
   ]
  },
  {
   "cell_type": "code",
   "execution_count": 19,
   "id": "d6a67d5b-0b38-4bc8-b3d8-90713b464d6a",
   "metadata": {},
   "outputs": [],
   "source": [
    "with open(\"mnist_net.pkl\", \"wb\") as f:\n",
    "    pickle.dump(n_net, f)"
   ]
  },
  {
   "cell_type": "code",
   "execution_count": null,
   "id": "8b618fba-fe62-438c-9ab3-276eb90ddab6",
   "metadata": {},
   "outputs": [],
   "source": [
    "with open(\"mnist_net.pkl\", \"rb\") as f:\n",
    "    tnet = pickle.load(f)"
   ]
  },
  {
   "cell_type": "code",
   "execution_count": null,
   "id": "dfc124d9-22e2-4570-90f6-f01dcf2adaa3",
   "metadata": {},
   "outputs": [],
   "source": [
    "with torch.no_grad():\n",
    "    print(torch.argmax(torch.softmax(tnet(x_train[10]), dim=0)))"
   ]
  },
  {
   "cell_type": "code",
   "execution_count": null,
   "id": "5e888790-fd56-4f86-ad6a-3b4015a5abc0",
   "metadata": {},
   "outputs": [],
   "source": [
    "y_train[101]"
   ]
  },
  {
   "cell_type": "code",
   "execution_count": null,
   "id": "c6331071-f4ea-43a8-8e90-d4456038109d",
   "metadata": {},
   "outputs": [],
   "source": []
  }
 ],
 "metadata": {
  "kernelspec": {
   "display_name": "Python 3 (ipykernel)",
   "language": "python",
   "name": "python3"
  },
  "language_info": {
   "codemirror_mode": {
    "name": "ipython",
    "version": 3
   },
   "file_extension": ".py",
   "mimetype": "text/x-python",
   "name": "python",
   "nbconvert_exporter": "python",
   "pygments_lexer": "ipython3",
   "version": "3.12.4"
  }
 },
 "nbformat": 4,
 "nbformat_minor": 5
}
